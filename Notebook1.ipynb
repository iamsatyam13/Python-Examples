{
 "cells": [
  {
   "cell_type": "markdown",
   "id": "86552712",
   "metadata": {
    "papermill": {
     "duration": 0.009239,
     "end_time": "2023-05-18T15:49:05.679753",
     "exception": false,
     "start_time": "2023-05-18T15:49:05.670514",
     "status": "completed"
    },
    "tags": []
   },
   "source": [
    "**This notebook is an exercise in the [Python](https://www.kaggle.com/learn/python) course.  You can reference the tutorial at [this link](https://www.kaggle.com/colinmorris/hello-python).**\n",
    "\n",
    "---\n"
   ]
  },
  {
   "cell_type": "markdown",
   "id": "caa8682b",
   "metadata": {
    "papermill": {
     "duration": 0.008157,
     "end_time": "2023-05-18T15:49:05.696397",
     "exception": false,
     "start_time": "2023-05-18T15:49:05.688240",
     "status": "completed"
    },
    "tags": []
   },
   "source": [
    "Welcome to your first set of Python coding problems.  If this is your first time using Kaggle Notebooks, welcome! \n",
    "\n",
    "Notebooks are composed of blocks (called \"cells\") of text and code. Each of these is editable, though you'll mainly be editing the code cells to answer some questions.\n",
    "\n",
    "To get started, try running the code cell below (by pressing the ► button, or clicking on the cell and pressing ctrl+enter on your keyboard)."
   ]
  },
  {
   "cell_type": "code",
   "execution_count": 1,
   "id": "eed54c67",
   "metadata": {
    "execution": {
     "iopub.execute_input": "2023-05-18T15:49:05.717043Z",
     "iopub.status.busy": "2023-05-18T15:49:05.715824Z",
     "iopub.status.idle": "2023-05-18T15:49:05.732376Z",
     "shell.execute_reply": "2023-05-18T15:49:05.731135Z"
    },
    "papermill": {
     "duration": 0.029947,
     "end_time": "2023-05-18T15:49:05.735238",
     "exception": false,
     "start_time": "2023-05-18T15:49:05.705291",
     "status": "completed"
    },
    "tags": []
   },
   "outputs": [
    {
     "name": "stdout",
     "output_type": "stream",
     "text": [
      "You've successfully run some Python code\n",
      "Congratulations!\n"
     ]
    }
   ],
   "source": [
    "print(\"You've successfully run some Python code\")\n",
    "print(\"Congratulations!\")"
   ]
  },
  {
   "cell_type": "markdown",
   "id": "cd09faf6",
   "metadata": {
    "papermill": {
     "duration": 0.008309,
     "end_time": "2023-05-18T15:49:05.752131",
     "exception": false,
     "start_time": "2023-05-18T15:49:05.743822",
     "status": "completed"
    },
    "tags": []
   },
   "source": [
    "Try adding another line of code in the cell above and re-running it. \n",
    "\n",
    "Now let's get a little fancier:  Add a new code cell by clicking on an existing code cell, hitting the escape key, and then hitting the `a` or `b` key.  The `a` key will add a cell above the current cell, and `b` adds a cell below.\n",
    "\n",
    "Great! Now you know how to use Notebooks.\n",
    "\n",
    "Each hands-on exercise starts by setting up our feedback and code checking mechanism. Run the code cell below to do that. Then you'll be ready to move on to question 0."
   ]
  },
  {
   "cell_type": "code",
   "execution_count": 2,
   "id": "fb8a6559",
   "metadata": {
    "_kg_hide-input": true,
    "_kg_hide-output": true,
    "execution": {
     "iopub.execute_input": "2023-05-18T15:49:05.772083Z",
     "iopub.status.busy": "2023-05-18T15:49:05.771408Z",
     "iopub.status.idle": "2023-05-18T15:49:05.812687Z",
     "shell.execute_reply": "2023-05-18T15:49:05.811251Z"
    },
    "papermill": {
     "duration": 0.054505,
     "end_time": "2023-05-18T15:49:05.815246",
     "exception": false,
     "start_time": "2023-05-18T15:49:05.760741",
     "status": "completed"
    },
    "tags": []
   },
   "outputs": [
    {
     "name": "stdout",
     "output_type": "stream",
     "text": [
      "Setup complete! You're ready to start question 0.\n"
     ]
    }
   ],
   "source": [
    "from learntools.core import binder; binder.bind(globals())\n",
    "from learntools.python.ex1 import *\n",
    "print(\"Setup complete! You're ready to start question 0.\")"
   ]
  },
  {
   "cell_type": "markdown",
   "id": "493fcb37",
   "metadata": {
    "papermill": {
     "duration": 0.00827,
     "end_time": "2023-05-18T15:49:05.832770",
     "exception": false,
     "start_time": "2023-05-18T15:49:05.824500",
     "status": "completed"
    },
    "tags": []
   },
   "source": [
    "# 0.\n",
    "\n",
    "*This is a silly question intended as an introduction to the format we use for hands-on exercises throughout all Kaggle courses.*\n",
    "\n",
    "**What is your favorite color? **\n",
    "\n",
    "To complete this question, create a variable called `color` in the cell below with an appropriate value. The function call `q0.check()` (which we've already provided in the cell below) will check your answer."
   ]
  },
  {
   "cell_type": "code",
   "execution_count": 3,
   "id": "bf026f5a",
   "metadata": {
    "execution": {
     "iopub.execute_input": "2023-05-18T15:49:05.853666Z",
     "iopub.status.busy": "2023-05-18T15:49:05.852634Z",
     "iopub.status.idle": "2023-05-18T15:49:05.863864Z",
     "shell.execute_reply": "2023-05-18T15:49:05.862856Z"
    },
    "papermill": {
     "duration": 0.024637,
     "end_time": "2023-05-18T15:49:05.866452",
     "exception": false,
     "start_time": "2023-05-18T15:49:05.841815",
     "status": "completed"
    },
    "tags": []
   },
   "outputs": [
    {
     "data": {
      "application/javascript": [
       "parent.postMessage({\"jupyterEvent\": \"custom.exercise_interaction\", \"data\": {\"outcomeType\": 1, \"valueTowardsCompletion\": 0.25, \"interactionType\": 1, \"questionType\": 2, \"questionId\": \"0_ExerciseFormatTutorial\", \"learnToolsVersion\": \"0.3.4\", \"failureMessage\": \"\", \"exceptionClass\": \"\", \"trace\": \"\"}}, \"*\")"
      ],
      "text/plain": [
       "<IPython.core.display.Javascript object>"
      ]
     },
     "metadata": {},
     "output_type": "display_data"
    },
    {
     "data": {
      "text/markdown": [
       "<span style=\"color:#33cc33\">Correct:</span> What?! You got it right without needing a hint or anything? Drats. Well hey, you should still continue to the next step to get some practice asking for a hint and checking solutions. (Even though you obviously don't need any help here.)"
      ],
      "text/plain": [
       "Correct: What?! You got it right without needing a hint or anything? Drats. Well hey, you should still continue to the next step to get some practice asking for a hint and checking solutions. (Even though you obviously don't need any help here.)"
      ]
     },
     "metadata": {},
     "output_type": "display_data"
    }
   ],
   "source": [
    "# create a variable called color with an appropriate value on the line below\n",
    "# (Remember, strings in Python must be enclosed in 'single' or \"double\" quotes)\n",
    "color='blue'\n",
    "# Check your answer\n",
    "q0.check()"
   ]
  },
  {
   "cell_type": "markdown",
   "id": "685c1650",
   "metadata": {
    "papermill": {
     "duration": 0.008548,
     "end_time": "2023-05-18T15:49:05.884189",
     "exception": false,
     "start_time": "2023-05-18T15:49:05.875641",
     "status": "completed"
    },
    "tags": []
   },
   "source": [
    "Didn't get the right answer? How do you not even know your own favorite color?!\n",
    "\n",
    "Delete the `#` in the line below to make one of the lines run. You can choose between getting a hint or the full answer by choosing which line to remove the `#` from. \n",
    "\n",
    "Removing the `#` is called uncommenting, because it changes that line from a \"comment\" which Python doesn't run to code, which Python does run."
   ]
  },
  {
   "cell_type": "code",
   "execution_count": 4,
   "id": "53c2a8dc",
   "metadata": {
    "execution": {
     "iopub.execute_input": "2023-05-18T15:49:05.905037Z",
     "iopub.status.busy": "2023-05-18T15:49:05.903981Z",
     "iopub.status.idle": "2023-05-18T15:49:05.917591Z",
     "shell.execute_reply": "2023-05-18T15:49:05.916351Z"
    },
    "papermill": {
     "duration": 0.027335,
     "end_time": "2023-05-18T15:49:05.920533",
     "exception": false,
     "start_time": "2023-05-18T15:49:05.893198",
     "status": "completed"
    },
    "tags": []
   },
   "outputs": [
    {
     "data": {
      "application/javascript": [
       "parent.postMessage({\"jupyterEvent\": \"custom.exercise_interaction\", \"data\": {\"interactionType\": 2, \"questionType\": 2, \"questionId\": \"0_ExerciseFormatTutorial\", \"learnToolsVersion\": \"0.3.4\", \"valueTowardsCompletion\": 0.0, \"failureMessage\": \"\", \"exceptionClass\": \"\", \"trace\": \"\", \"outcomeType\": 4}}, \"*\")"
      ],
      "text/plain": [
       "<IPython.core.display.Javascript object>"
      ]
     },
     "metadata": {},
     "output_type": "display_data"
    },
    {
     "data": {
      "text/markdown": [
       "<span style=\"color:#3366cc\">Hint:</span> Your favorite color rhymes with *glue*."
      ],
      "text/plain": [
       "Hint: Your favorite color rhymes with *glue*."
      ]
     },
     "metadata": {},
     "output_type": "display_data"
    },
    {
     "data": {
      "application/javascript": [
       "parent.postMessage({\"jupyterEvent\": \"custom.exercise_interaction\", \"data\": {\"interactionType\": 3, \"questionType\": 2, \"questionId\": \"0_ExerciseFormatTutorial\", \"learnToolsVersion\": \"0.3.4\", \"valueTowardsCompletion\": 0.0, \"failureMessage\": \"\", \"exceptionClass\": \"\", \"trace\": \"\", \"outcomeType\": 4}}, \"*\")"
      ],
      "text/plain": [
       "<IPython.core.display.Javascript object>"
      ]
     },
     "metadata": {},
     "output_type": "display_data"
    },
    {
     "data": {
      "text/markdown": [
       "<span style=\"color:#33cc99\">Solution:</span> \n",
       "```python\n",
       "color = \"blue\"\n",
       "```"
      ],
      "text/plain": [
       "Solution: \n",
       "```python\n",
       "color = \"blue\"\n",
       "```"
      ]
     },
     "metadata": {},
     "output_type": "display_data"
    }
   ],
   "source": [
    "q0.hint()\n",
    "q0.solution()"
   ]
  },
  {
   "cell_type": "markdown",
   "id": "048abb48",
   "metadata": {
    "papermill": {
     "duration": 0.009308,
     "end_time": "2023-05-18T15:49:05.939647",
     "exception": false,
     "start_time": "2023-05-18T15:49:05.930339",
     "status": "completed"
    },
    "tags": []
   },
   "source": [
    "The upcoming questions work the same way. The only thing that will change are the question numbers. For the next question, you'll call `q1.check()`, `q1.hint()`, `q1.solution()`, for question 2, you'll call `q2.check()`, and so on."
   ]
  },
  {
   "cell_type": "markdown",
   "id": "cb7d6d38",
   "metadata": {
    "papermill": {
     "duration": 0.010043,
     "end_time": "2023-05-18T15:49:05.960229",
     "exception": false,
     "start_time": "2023-05-18T15:49:05.950186",
     "status": "completed"
    },
    "tags": []
   },
   "source": [
    "<hr/>\n",
    "\n",
    "# 1.\n",
    "\n",
    "Complete the code below. In case it's helpful, here is the table of available arithmetic operations:\n",
    "\n",
    "\n",
    "\n",
    "| Operator     | Name           | Description                                            |\n",
    "|--------------|----------------|--------------------------------------------------------|\n",
    "| ``a + b``    | Addition       | Sum of ``a`` and ``b``                                 |\n",
    "| ``a - b``    | Subtraction    | Difference of ``a`` and ``b``                          |\n",
    "| ``a * b``    | Multiplication | Product of ``a`` and ``b``                             |\n",
    "| ``a / b``    | True division  | Quotient of ``a`` and ``b``                            |\n",
    "| ``a // b``   | Floor division | Quotient of ``a`` and ``b``, removing fractional parts |\n",
    "| ``a % b``    | Modulus        | Integer remainder after division of ``a`` by ``b``     |\n",
    "| ``a ** b``   | Exponentiation | ``a`` raised to the power of ``b``                     |\n",
    "| ``-a``       | Negation       | The negative of ``a``                                  |\n",
    "\n",
    "<span style=\"display:none\"></span>\n"
   ]
  },
  {
   "cell_type": "code",
   "execution_count": 5,
   "id": "b7ff78ed",
   "metadata": {
    "execution": {
     "iopub.execute_input": "2023-05-18T15:49:05.982289Z",
     "iopub.status.busy": "2023-05-18T15:49:05.981893Z",
     "iopub.status.idle": "2023-05-18T15:49:05.992500Z",
     "shell.execute_reply": "2023-05-18T15:49:05.991243Z"
    },
    "papermill": {
     "duration": 0.025,
     "end_time": "2023-05-18T15:49:05.995273",
     "exception": false,
     "start_time": "2023-05-18T15:49:05.970273",
     "status": "completed"
    },
    "tags": []
   },
   "outputs": [
    {
     "data": {
      "application/javascript": [
       "parent.postMessage({\"jupyterEvent\": \"custom.exercise_interaction\", \"data\": {\"outcomeType\": 1, \"valueTowardsCompletion\": 0.25, \"interactionType\": 1, \"questionType\": 1, \"questionId\": \"1_CircleArea\", \"learnToolsVersion\": \"0.3.4\", \"failureMessage\": \"\", \"exceptionClass\": \"\", \"trace\": \"\"}}, \"*\")"
      ],
      "text/plain": [
       "<IPython.core.display.Javascript object>"
      ]
     },
     "metadata": {},
     "output_type": "display_data"
    },
    {
     "data": {
      "text/markdown": [
       "<span style=\"color:#33cc33\">Correct</span>"
      ],
      "text/plain": [
       "Correct"
      ]
     },
     "metadata": {},
     "output_type": "display_data"
    }
   ],
   "source": [
    "pi = 3.14159 # approximate\n",
    "diameter = 3\n",
    "\n",
    "# Create a variable called 'radius' equal to half the diameter\n",
    "radius=0.5*diameter\n",
    "\n",
    "# Create a variable called 'area', using the formula for the area of a circle: pi times the radius squared\n",
    "area=pi*radius**2\n",
    "\n",
    "# Check your answer\n",
    "q1.check()"
   ]
  },
  {
   "cell_type": "code",
   "execution_count": 6,
   "id": "190cbd7d",
   "metadata": {
    "execution": {
     "iopub.execute_input": "2023-05-18T15:49:06.017828Z",
     "iopub.status.busy": "2023-05-18T15:49:06.017415Z",
     "iopub.status.idle": "2023-05-18T15:49:06.022152Z",
     "shell.execute_reply": "2023-05-18T15:49:06.020856Z"
    },
    "papermill": {
     "duration": 0.019079,
     "end_time": "2023-05-18T15:49:06.024875",
     "exception": false,
     "start_time": "2023-05-18T15:49:06.005796",
     "status": "completed"
    },
    "tags": []
   },
   "outputs": [],
   "source": [
    "# Uncomment and run the lines below if you need help.\n",
    "#q1.hint()\n",
    "#q1.solution()"
   ]
  },
  {
   "cell_type": "markdown",
   "id": "014405c4",
   "metadata": {
    "papermill": {
     "duration": 0.010552,
     "end_time": "2023-05-18T15:49:06.045466",
     "exception": false,
     "start_time": "2023-05-18T15:49:06.034914",
     "status": "completed"
    },
    "tags": []
   },
   "source": [
    "<hr/>\n",
    "\n",
    "# 2.\n",
    "\n",
    "Add code to the following cell to swap variables `a` and `b` (so that `a` refers to the object previously referred to by `b` and vice versa)."
   ]
  },
  {
   "cell_type": "code",
   "execution_count": 7,
   "id": "5e1db62c",
   "metadata": {
    "execution": {
     "iopub.execute_input": "2023-05-18T15:49:06.068061Z",
     "iopub.status.busy": "2023-05-18T15:49:06.067651Z",
     "iopub.status.idle": "2023-05-18T15:49:06.079802Z",
     "shell.execute_reply": "2023-05-18T15:49:06.078466Z"
    },
    "papermill": {
     "duration": 0.026737,
     "end_time": "2023-05-18T15:49:06.082246",
     "exception": false,
     "start_time": "2023-05-18T15:49:06.055509",
     "status": "completed"
    },
    "tags": []
   },
   "outputs": [
    {
     "data": {
      "application/javascript": [
       "parent.postMessage({\"jupyterEvent\": \"custom.exercise_interaction\", \"data\": {\"outcomeType\": 1, \"valueTowardsCompletion\": 0.25, \"interactionType\": 1, \"questionType\": 2, \"questionId\": \"2_VariableSwap\", \"learnToolsVersion\": \"0.3.4\", \"failureMessage\": \"\", \"exceptionClass\": \"\", \"trace\": \"\"}}, \"*\")"
      ],
      "text/plain": [
       "<IPython.core.display.Javascript object>"
      ]
     },
     "metadata": {},
     "output_type": "display_data"
    },
    {
     "data": {
      "text/markdown": [
       "<span style=\"color:#33cc33\">Correct:</span> \n",
       "\n",
       "The most straightforward solution is to use a third variable to temporarily store one of the old values. e.g.:\n",
       "\n",
       "    tmp = a\n",
       "    a = b\n",
       "    b = tmp\n",
       "\n",
       "If you've read lots of Python code, you might have seen the following trick to swap two variables in one line:\n",
       "\n",
       "    a, b = b, a\n",
       "\n",
       "We'll demystify this bit of Python magic later when we talk about *tuples*."
      ],
      "text/plain": [
       "Correct: \n",
       "\n",
       "The most straightforward solution is to use a third variable to temporarily store one of the old values. e.g.:\n",
       "\n",
       "    tmp = a\n",
       "    a = b\n",
       "    b = tmp\n",
       "\n",
       "If you've read lots of Python code, you might have seen the following trick to swap two variables in one line:\n",
       "\n",
       "    a, b = b, a\n",
       "\n",
       "We'll demystify this bit of Python magic later when we talk about *tuples*."
      ]
     },
     "metadata": {},
     "output_type": "display_data"
    }
   ],
   "source": [
    "########### Setup code - don't touch this part ######################\n",
    "# If you're curious, these are examples of lists. We'll talk about \n",
    "# them in depth a few lessons from now. For now, just know that they're\n",
    "# yet another type of Python object, like int or float.\n",
    "a = [1, 2, 3]\n",
    "b = [3, 2, 1]\n",
    "q2.store_original_ids()\n",
    "######################################################################\n",
    "\n",
    "temp=a\n",
    "a=b\n",
    "b=temp\n",
    "\n",
    "\n",
    "######################################################################\n",
    "\n",
    "# Check your answer\n",
    "q2.check()"
   ]
  },
  {
   "cell_type": "code",
   "execution_count": 8,
   "id": "9738cac5",
   "metadata": {
    "execution": {
     "iopub.execute_input": "2023-05-18T15:49:06.105505Z",
     "iopub.status.busy": "2023-05-18T15:49:06.105082Z",
     "iopub.status.idle": "2023-05-18T15:49:06.113562Z",
     "shell.execute_reply": "2023-05-18T15:49:06.112676Z"
    },
    "papermill": {
     "duration": 0.023156,
     "end_time": "2023-05-18T15:49:06.116266",
     "exception": false,
     "start_time": "2023-05-18T15:49:06.093110",
     "status": "completed"
    },
    "tags": []
   },
   "outputs": [
    {
     "data": {
      "application/javascript": [
       "parent.postMessage({\"jupyterEvent\": \"custom.exercise_interaction\", \"data\": {\"interactionType\": 2, \"questionType\": 2, \"questionId\": \"2_VariableSwap\", \"learnToolsVersion\": \"0.3.4\", \"valueTowardsCompletion\": 0.0, \"failureMessage\": \"\", \"exceptionClass\": \"\", \"trace\": \"\", \"outcomeType\": 4}}, \"*\")"
      ],
      "text/plain": [
       "<IPython.core.display.Javascript object>"
      ]
     },
     "metadata": {},
     "output_type": "display_data"
    },
    {
     "data": {
      "text/markdown": [
       "<span style=\"color:#3366cc\">Hint:</span> Try using a third variable."
      ],
      "text/plain": [
       "Hint: Try using a third variable."
      ]
     },
     "metadata": {},
     "output_type": "display_data"
    }
   ],
   "source": [
    "q2.hint()"
   ]
  },
  {
   "cell_type": "code",
   "execution_count": 9,
   "id": "09986b6c",
   "metadata": {
    "execution": {
     "iopub.execute_input": "2023-05-18T15:49:06.140623Z",
     "iopub.status.busy": "2023-05-18T15:49:06.140215Z",
     "iopub.status.idle": "2023-05-18T15:49:06.144398Z",
     "shell.execute_reply": "2023-05-18T15:49:06.143391Z"
    },
    "papermill": {
     "duration": 0.019168,
     "end_time": "2023-05-18T15:49:06.146757",
     "exception": false,
     "start_time": "2023-05-18T15:49:06.127589",
     "status": "completed"
    },
    "tags": []
   },
   "outputs": [],
   "source": [
    "#q2.solution()"
   ]
  },
  {
   "cell_type": "markdown",
   "id": "cdeb44c6",
   "metadata": {
    "papermill": {
     "duration": 0.010951,
     "end_time": "2023-05-18T15:49:06.168770",
     "exception": false,
     "start_time": "2023-05-18T15:49:06.157819",
     "status": "completed"
    },
    "tags": []
   },
   "source": [
    "<hr/>\n",
    "\n",
    "# 3a.\n",
    "\n",
    "Add parentheses to the following expression so that it evaluates to 1."
   ]
  },
  {
   "cell_type": "code",
   "execution_count": 10,
   "id": "eba72e4a",
   "metadata": {
    "execution": {
     "iopub.execute_input": "2023-05-18T15:49:06.192631Z",
     "iopub.status.busy": "2023-05-18T15:49:06.191819Z",
     "iopub.status.idle": "2023-05-18T15:49:06.198482Z",
     "shell.execute_reply": "2023-05-18T15:49:06.197269Z"
    },
    "papermill": {
     "duration": 0.021517,
     "end_time": "2023-05-18T15:49:06.201163",
     "exception": false,
     "start_time": "2023-05-18T15:49:06.179646",
     "status": "completed"
    },
    "tags": []
   },
   "outputs": [
    {
     "data": {
      "text/plain": [
       "1"
      ]
     },
     "execution_count": 10,
     "metadata": {},
     "output_type": "execute_result"
    }
   ],
   "source": [
    "(5 - 3) // 2"
   ]
  },
  {
   "cell_type": "code",
   "execution_count": 11,
   "id": "838adb69",
   "metadata": {
    "execution": {
     "iopub.execute_input": "2023-05-18T15:49:06.225249Z",
     "iopub.status.busy": "2023-05-18T15:49:06.224820Z",
     "iopub.status.idle": "2023-05-18T15:49:06.234972Z",
     "shell.execute_reply": "2023-05-18T15:49:06.233456Z"
    },
    "papermill": {
     "duration": 0.025591,
     "end_time": "2023-05-18T15:49:06.237672",
     "exception": false,
     "start_time": "2023-05-18T15:49:06.212081",
     "status": "completed"
    },
    "tags": []
   },
   "outputs": [
    {
     "data": {
      "application/javascript": [
       "parent.postMessage({\"jupyterEvent\": \"custom.exercise_interaction\", \"data\": {\"interactionType\": 2, \"questionType\": 4, \"questionId\": \"3.1_ArithmeticParensEasy\", \"learnToolsVersion\": \"0.3.4\", \"valueTowardsCompletion\": 0.0, \"failureMessage\": \"\", \"exceptionClass\": \"\", \"trace\": \"\", \"outcomeType\": 4}}, \"*\")"
      ],
      "text/plain": [
       "<IPython.core.display.Javascript object>"
      ]
     },
     "metadata": {},
     "output_type": "display_data"
    },
    {
     "data": {
      "text/markdown": [
       "<span style=\"color:#3366cc\">Hint:</span> Following its default \"BEDMAS\"-like rules for order of operations, Python will first divide 3 by 2, then subtract the result from 5. You need to add parentheses to force it to perform the subtraction first."
      ],
      "text/plain": [
       "Hint: Following its default \"BEDMAS\"-like rules for order of operations, Python will first divide 3 by 2, then subtract the result from 5. You need to add parentheses to force it to perform the subtraction first."
      ]
     },
     "metadata": {},
     "output_type": "display_data"
    }
   ],
   "source": [
    "q3.a.hint()"
   ]
  },
  {
   "cell_type": "code",
   "execution_count": 12,
   "id": "f8892e76",
   "metadata": {
    "execution": {
     "iopub.execute_input": "2023-05-18T15:49:06.263401Z",
     "iopub.status.busy": "2023-05-18T15:49:06.262492Z",
     "iopub.status.idle": "2023-05-18T15:49:06.273676Z",
     "shell.execute_reply": "2023-05-18T15:49:06.271882Z"
    },
    "papermill": {
     "duration": 0.027315,
     "end_time": "2023-05-18T15:49:06.276613",
     "exception": false,
     "start_time": "2023-05-18T15:49:06.249298",
     "status": "completed"
    },
    "tags": []
   },
   "outputs": [
    {
     "data": {
      "application/javascript": [
       "parent.postMessage({\"jupyterEvent\": \"custom.exercise_interaction\", \"data\": {\"interactionType\": 3, \"questionType\": 4, \"questionId\": \"3.1_ArithmeticParensEasy\", \"learnToolsVersion\": \"0.3.4\", \"valueTowardsCompletion\": 0.0, \"failureMessage\": \"\", \"exceptionClass\": \"\", \"trace\": \"\", \"outcomeType\": 4}}, \"*\")"
      ],
      "text/plain": [
       "<IPython.core.display.Javascript object>"
      ]
     },
     "metadata": {},
     "output_type": "display_data"
    },
    {
     "data": {
      "text/markdown": [
       "<span style=\"color:#33cc99\">Solution:</span> \n",
       "```python\n",
       "(5 - 3) // 2\n",
       "```"
      ],
      "text/plain": [
       "Solution: \n",
       "```python\n",
       "(5 - 3) // 2\n",
       "```"
      ]
     },
     "metadata": {},
     "output_type": "display_data"
    }
   ],
   "source": [
    "# Check your answer (Run this code cell to receive credit!)\n",
    "q3.a.solution()"
   ]
  },
  {
   "cell_type": "markdown",
   "id": "678f3abf",
   "metadata": {
    "papermill": {
     "duration": 0.011346,
     "end_time": "2023-05-18T15:49:06.300165",
     "exception": false,
     "start_time": "2023-05-18T15:49:06.288819",
     "status": "completed"
    },
    "tags": []
   },
   "source": [
    "# 3b.  <span title=\"A bit spicy\" style=\"color: darkgreen \">🌶️</span>\n",
    "\n",
    "<small>Questions, like this one, marked a spicy pepper are a bit harder.</small>\n",
    "\n",
    "Add parentheses to the following expression so that it evaluates to 0."
   ]
  },
  {
   "cell_type": "code",
   "execution_count": 13,
   "id": "72c3aab2",
   "metadata": {
    "execution": {
     "iopub.execute_input": "2023-05-18T15:49:06.327599Z",
     "iopub.status.busy": "2023-05-18T15:49:06.327151Z",
     "iopub.status.idle": "2023-05-18T15:49:06.334594Z",
     "shell.execute_reply": "2023-05-18T15:49:06.333399Z"
    },
    "papermill": {
     "duration": 0.02492,
     "end_time": "2023-05-18T15:49:06.337687",
     "exception": false,
     "start_time": "2023-05-18T15:49:06.312767",
     "status": "completed"
    },
    "tags": []
   },
   "outputs": [
    {
     "data": {
      "text/plain": [
       "0"
      ]
     },
     "execution_count": 13,
     "metadata": {},
     "output_type": "execute_result"
    }
   ],
   "source": [
    "8 - (3 * 2) - (1 + 1)"
   ]
  },
  {
   "cell_type": "code",
   "execution_count": 14,
   "id": "b6f7a341",
   "metadata": {
    "execution": {
     "iopub.execute_input": "2023-05-18T15:49:06.364395Z",
     "iopub.status.busy": "2023-05-18T15:49:06.363361Z",
     "iopub.status.idle": "2023-05-18T15:49:06.368121Z",
     "shell.execute_reply": "2023-05-18T15:49:06.367178Z"
    },
    "papermill": {
     "duration": 0.020582,
     "end_time": "2023-05-18T15:49:06.370646",
     "exception": false,
     "start_time": "2023-05-18T15:49:06.350064",
     "status": "completed"
    },
    "tags": []
   },
   "outputs": [],
   "source": [
    "#q3.b.hint()"
   ]
  },
  {
   "cell_type": "code",
   "execution_count": 15,
   "id": "68d26ee8",
   "metadata": {
    "execution": {
     "iopub.execute_input": "2023-05-18T15:49:06.397126Z",
     "iopub.status.busy": "2023-05-18T15:49:06.396703Z",
     "iopub.status.idle": "2023-05-18T15:49:06.406086Z",
     "shell.execute_reply": "2023-05-18T15:49:06.404701Z"
    },
    "papermill": {
     "duration": 0.025772,
     "end_time": "2023-05-18T15:49:06.408802",
     "exception": false,
     "start_time": "2023-05-18T15:49:06.383030",
     "status": "completed"
    },
    "tags": []
   },
   "outputs": [
    {
     "data": {
      "application/javascript": [
       "parent.postMessage({\"jupyterEvent\": \"custom.exercise_interaction\", \"data\": {\"interactionType\": 3, \"questionType\": 4, \"questionId\": \"3.2_ArithmeticParensHard\", \"learnToolsVersion\": \"0.3.4\", \"valueTowardsCompletion\": 0.0, \"failureMessage\": \"\", \"exceptionClass\": \"\", \"trace\": \"\", \"outcomeType\": 4}}, \"*\")"
      ],
      "text/plain": [
       "<IPython.core.display.Javascript object>"
      ]
     },
     "metadata": {},
     "output_type": "display_data"
    },
    {
     "data": {
      "text/markdown": [
       "<span style=\"color:#33cc99\">Solution:</span> `(8 - 3) * (2 - (1 + 1))` is one solution. There may be others."
      ],
      "text/plain": [
       "Solution: `(8 - 3) * (2 - (1 + 1))` is one solution. There may be others."
      ]
     },
     "metadata": {},
     "output_type": "display_data"
    }
   ],
   "source": [
    "# Check your answer (Run this code cell to receive credit!)\n",
    "q3.b.solution()"
   ]
  },
  {
   "cell_type": "markdown",
   "id": "9c14e39d",
   "metadata": {
    "papermill": {
     "duration": 0.01201,
     "end_time": "2023-05-18T15:49:06.433148",
     "exception": false,
     "start_time": "2023-05-18T15:49:06.421138",
     "status": "completed"
    },
    "tags": []
   },
   "source": [
    "<hr/>\n",
    "\n",
    "# 4. \n",
    "Alice, Bob and Carol have agreed to pool their Halloween candy and split it evenly among themselves.\n",
    "For the sake of their friendship, any candies left over will be smashed. For example, if they collectively\n",
    "bring home 91 candies, they'll take 30 each and smash 1.\n",
    "\n",
    "Write an arithmetic expression below to calculate how many candies they must smash for a given haul."
   ]
  },
  {
   "cell_type": "code",
   "execution_count": 16,
   "id": "6e7914ce",
   "metadata": {
    "execution": {
     "iopub.execute_input": "2023-05-18T15:49:06.461461Z",
     "iopub.status.busy": "2023-05-18T15:49:06.460558Z",
     "iopub.status.idle": "2023-05-18T15:49:06.469287Z",
     "shell.execute_reply": "2023-05-18T15:49:06.468449Z"
    },
    "papermill": {
     "duration": 0.025918,
     "end_time": "2023-05-18T15:49:06.471552",
     "exception": false,
     "start_time": "2023-05-18T15:49:06.445634",
     "status": "completed"
    },
    "tags": []
   },
   "outputs": [
    {
     "data": {
      "application/javascript": [
       "parent.postMessage({\"jupyterEvent\": \"custom.exercise_interaction\", \"data\": {\"outcomeType\": 1, \"valueTowardsCompletion\": 0.25, \"interactionType\": 1, \"questionType\": 1, \"questionId\": \"4_CandySplitting\", \"learnToolsVersion\": \"0.3.4\", \"failureMessage\": \"\", \"exceptionClass\": \"\", \"trace\": \"\"}}, \"*\")"
      ],
      "text/plain": [
       "<IPython.core.display.Javascript object>"
      ]
     },
     "metadata": {},
     "output_type": "display_data"
    },
    {
     "data": {
      "text/markdown": [
       "<span style=\"color:#33cc33\">Correct</span>"
      ],
      "text/plain": [
       "Correct"
      ]
     },
     "metadata": {},
     "output_type": "display_data"
    }
   ],
   "source": [
    "# Variables representing the number of candies collected by alice, bob, and carol\n",
    "alice_candies = 121\n",
    "bob_candies = 77\n",
    "carol_candies = 109\n",
    "\n",
    "total=alice_candies+bob_candies+carol_candies\n",
    "# Your code goes here! Replace the right-hand side of this assignment with an expression\n",
    "# involving alice_candies, bob_candies, and carol_candies\n",
    "to_smash = total%3\n",
    "\n",
    "# Check your answer\n",
    "q4.check()"
   ]
  },
  {
   "cell_type": "code",
   "execution_count": 17,
   "id": "7630a3d1",
   "metadata": {
    "execution": {
     "iopub.execute_input": "2023-05-18T15:49:06.498815Z",
     "iopub.status.busy": "2023-05-18T15:49:06.498170Z",
     "iopub.status.idle": "2023-05-18T15:49:06.501928Z",
     "shell.execute_reply": "2023-05-18T15:49:06.501051Z"
    },
    "papermill": {
     "duration": 0.020214,
     "end_time": "2023-05-18T15:49:06.504265",
     "exception": false,
     "start_time": "2023-05-18T15:49:06.484051",
     "status": "completed"
    },
    "tags": []
   },
   "outputs": [],
   "source": [
    "#q4.hint()\n",
    "#q4.solution()"
   ]
  },
  {
   "cell_type": "markdown",
   "id": "679b6c5a",
   "metadata": {
    "papermill": {
     "duration": 0.013364,
     "end_time": "2023-05-18T15:49:06.530482",
     "exception": false,
     "start_time": "2023-05-18T15:49:06.517118",
     "status": "completed"
    },
    "tags": []
   },
   "source": [
    "# Keep Going\n",
    "\n",
    "Next up, you'll **[learn to write new functions and understand functions others write](https://www.kaggle.com/colinmorris/functions-and-getting-help)**. This will make you at least 10 times more productive as a Python programmer. "
   ]
  },
  {
   "cell_type": "markdown",
   "id": "77cd6f48",
   "metadata": {
    "papermill": {
     "duration": 0.0126,
     "end_time": "2023-05-18T15:49:06.556352",
     "exception": false,
     "start_time": "2023-05-18T15:49:06.543752",
     "status": "completed"
    },
    "tags": []
   },
   "source": [
    "---\n",
    "\n",
    "\n",
    "\n",
    "\n",
    "*Have questions or comments? Visit the [course discussion forum](https://www.kaggle.com/learn/python/discussion) to chat with other learners.*"
   ]
  }
 ],
 "metadata": {
  "kernelspec": {
   "display_name": "Python 3",
   "language": "python",
   "name": "python3"
  },
  "language_info": {
   "codemirror_mode": {
    "name": "ipython",
    "version": 3
   },
   "file_extension": ".py",
   "mimetype": "text/x-python",
   "name": "python",
   "nbconvert_exporter": "python",
   "pygments_lexer": "ipython3",
   "version": "3.10.10"
  },
  "papermill": {
   "default_parameters": {},
   "duration": 16.373058,
   "end_time": "2023-05-18T15:49:07.491846",
   "environment_variables": {},
   "exception": null,
   "input_path": "__notebook__.ipynb",
   "output_path": "__notebook__.ipynb",
   "parameters": {},
   "start_time": "2023-05-18T15:48:51.118788",
   "version": "2.4.0"
  }
 },
 "nbformat": 4,
 "nbformat_minor": 5
}
